{
 "cells": [
  {
   "cell_type": "markdown",
   "id": "32409c9d-f924-4370-b992-03b0d4427751",
   "metadata": {},
   "source": [
    "<h1>Probabilistic approaches and Bayesian classification</h1>"
   ]
  },
  {
   "cell_type": "markdown",
   "id": "f79c2853-e00e-4fa3-adae-06924e90bb51",
   "metadata": {},
   "source": [
    "In this notebook you will learn about:\n",
    "- **Bayes’ Theorem** – theory and practical example  \n",
    "- **Naive Bayes Classifier** – a simple yet powerful probabilistic model for classification as form of machine learning"
   ]
  },
  {
   "cell_type": "markdown",
   "id": "60ee64c1-d74f-488a-b98f-5ee5ba4875a8",
   "metadata": {},
   "source": [
    "## Bayes theorem\n",
    "\n",
    "$$\n",
    "P(A \\mid B) = \\frac{P(B \\mid A) \\, P(A)}{P(B)}\n",
    "$$\n",
    "\n",
    "- P(A): *Probability* of event (A), regardless of (B)\n",
    "- P(B | A): *Probability* of observing (B) given that (A) is true\n",
    "- P(B): *Probability* of event (B), regardless of (A)\n",
    "- P(A | B): *Probability* of observing (A) given that (B) is true"
   ]
  },
  {
   "cell_type": "markdown",
   "id": "d6c2ad66-9735-459b-b6f1-a4b2b907703c",
   "metadata": {},
   "source": [
    "## Bayes theorem example: Diagnostic Test for a Disease\n",
    "- 1% of the total population has the disease\n",
    "- 95% of infected individuals have a positive test - sensitivity\n",
    "- 10% of healthy individuals have a positive test - false positive"
   ]
  },
  {
   "cell_type": "code",
   "execution_count": 1,
   "id": "e3986f6a-8319-457d-a6f8-f9195e1e0606",
   "metadata": {},
   "outputs": [],
   "source": [
    "# Set values from input\n",
    "P_population_infected = 0.01\n",
    "P_positive_given_infected = 0.95\n",
    "P_positive_given_healty = 0.10\n",
    "\n",
    "# Calculation of complementary probabilities\n",
    "P_population_healty = 1 - P_population_infected\n",
    "P_negative_given_infected = 1 - P_positive_given_infected\n",
    "P_negative_given_healty = 1 - P_positive_given_healty"
   ]
  },
  {
   "cell_type": "code",
   "execution_count": 2,
   "id": "50de603e-6119-4e8b-b235-149a8ed94d63",
   "metadata": {},
   "outputs": [
    {
     "data": {
      "text/html": [
       "<style type=\"text/css\">\n",
       "#T_dd93b th {\n",
       "  text-align: left;\n",
       "}\n",
       "#T_dd93b_row0_col0, #T_dd93b_row0_col1, #T_dd93b_row1_col0, #T_dd93b_row1_col1, #T_dd93b_row2_col0, #T_dd93b_row2_col1, #T_dd93b_row3_col0, #T_dd93b_row3_col1, #T_dd93b_row4_col0, #T_dd93b_row4_col1, #T_dd93b_row5_col0, #T_dd93b_row5_col1 {\n",
       "  text-align: left;\n",
       "}\n",
       "</style>\n",
       "<table id=\"T_dd93b\">\n",
       "  <thead>\n",
       "    <tr>\n",
       "      <th id=\"T_dd93b_level0_col0\" class=\"col_heading level0 col0\" >Event</th>\n",
       "      <th id=\"T_dd93b_level0_col1\" class=\"col_heading level0 col1\" >Probability</th>\n",
       "    </tr>\n",
       "  </thead>\n",
       "  <tbody>\n",
       "    <tr>\n",
       "      <td id=\"T_dd93b_row0_col0\" class=\"data row0 col0\" >Infected population</td>\n",
       "      <td id=\"T_dd93b_row0_col1\" class=\"data row0 col1\" >1%</td>\n",
       "    </tr>\n",
       "    <tr>\n",
       "      <td id=\"T_dd93b_row1_col0\" class=\"data row1 col0\" >Healthy population</td>\n",
       "      <td id=\"T_dd93b_row1_col1\" class=\"data row1 col1\" >99%</td>\n",
       "    </tr>\n",
       "    <tr>\n",
       "      <td id=\"T_dd93b_row2_col0\" class=\"data row2 col0\" >P(Positive | Infected)</td>\n",
       "      <td id=\"T_dd93b_row2_col1\" class=\"data row2 col1\" >95%</td>\n",
       "    </tr>\n",
       "    <tr>\n",
       "      <td id=\"T_dd93b_row3_col0\" class=\"data row3 col0\" >P(Negative | Infected)</td>\n",
       "      <td id=\"T_dd93b_row3_col1\" class=\"data row3 col1\" >5%</td>\n",
       "    </tr>\n",
       "    <tr>\n",
       "      <td id=\"T_dd93b_row4_col0\" class=\"data row4 col0\" >P(Positive | Healthy)</td>\n",
       "      <td id=\"T_dd93b_row4_col1\" class=\"data row4 col1\" >10%</td>\n",
       "    </tr>\n",
       "    <tr>\n",
       "      <td id=\"T_dd93b_row5_col0\" class=\"data row5 col0\" >P(Negative | Healthy)</td>\n",
       "      <td id=\"T_dd93b_row5_col1\" class=\"data row5 col1\" >90%</td>\n",
       "    </tr>\n",
       "  </tbody>\n",
       "</table>\n"
      ],
      "text/plain": [
       "<pandas.io.formats.style.Styler at 0x14f540050>"
      ]
     },
     "execution_count": 2,
     "metadata": {},
     "output_type": "execute_result"
    }
   ],
   "source": [
    "# Display input values in table\n",
    "\n",
    "import pandas as pd\n",
    "\n",
    "data = {\n",
    "    \"Event\": [\n",
    "        \"Infected population\",\n",
    "        \"Healthy population\",\n",
    "        \"P(Positive | Infected)\",\n",
    "        \"P(Negative | Infected)\",\n",
    "        \"P(Positive | Healthy)\",\n",
    "        \"P(Negative | Healthy)\"\n",
    "    ],\n",
    "    \"Probability\": [\n",
    "        P_population_infected,\n",
    "        P_population_healty,\n",
    "        P_positive_given_infected,\n",
    "        P_negative_given_infected,\n",
    "        P_positive_given_healty,\n",
    "        P_negative_given_healty\n",
    "    ]\n",
    "}\n",
    "\n",
    "df = pd.DataFrame(data)\n",
    "\n",
    "df[\"Probability\"] = df[\"Probability\"].apply(lambda x: f\"{x:.0%}\")\n",
    "\n",
    "styled_df = (df.style\n",
    "    .hide(axis='index')\n",
    "    .set_properties(**{'text-align': 'left'})\n",
    "    .set_table_styles([{\n",
    "        'selector': 'th',\n",
    "        'props': [('text-align', 'left')]\n",
    "    }])\n",
    ")\n",
    "\n",
    "styled_df"
   ]
  },
  {
   "cell_type": "markdown",
   "id": "48fa83e7-941f-4834-a619-8e1c7f98b4a1",
   "metadata": {},
   "source": [
    "If test is positive what is the probability of individual actually being infected?\n",
    "\n",
    "$$\n",
    "P(Infected \\mid Positive) = \\frac{P(Positive \\mid Infected) \\, P(Infected)}{P(Positive)}\n",
    "$$"
   ]
  },
  {
   "cell_type": "code",
   "execution_count": 3,
   "id": "af352acf-f6ee-43b0-8548-7b21b168e64e",
   "metadata": {},
   "outputs": [
    {
     "name": "stdout",
     "output_type": "stream",
     "text": [
      "Probability of positive test: 10.85%\n",
      "Probability of infected individual after test was positive: 8.76%\n"
     ]
    }
   ],
   "source": [
    "# Calculate all positive tests\n",
    "P_positive = (P_positive_given_infected * P_population_infected + P_positive_given_healty * P_population_healty)\n",
    "print(f\"Probability of positive test: {P_positive:.2%}\") \n",
    "\n",
    "# Calculate probability of infected after positive test\n",
    "P_infected_given_positive = (P_positive_given_infected * P_population_infected) / P_positive\n",
    "print(f\"Probability of infected individual after test was positive: {P_infected_given_positive:.2%}\") "
   ]
  },
  {
   "cell_type": "markdown",
   "id": "3c54c55a-a16a-4032-b7c2-702a08840448",
   "metadata": {
    "jp-MarkdownHeadingCollapsed": true
   },
   "source": [
    "<h2>Naive Bayes Classifier</h2>\n",
    "\n",
    "- multiple classes ( C_1, C_2, ..., C_k )\n",
    "- x - feature(attribute) vector of object\n",
    "\n",
    "$$\n",
    "P(C_i \\mid x) = \\frac{P(x \\mid C_i) \\, P(C_i)}{P(x)}\n",
    "$$\n",
    "\n",
    "- the goal of a classifier is to select the class that has the **highest probability**\n",
    "\n",
    "$$\n",
    "\\hat{C} = \\arg\\max_i \\, P(C_i \\mid x)\n",
    "$$\n",
    "\n",
    "\n",
    "- however in practice, it is often difficult to compute P(x | C_i ), because \\(x\\) may have many features\n",
    "\n",
    "- to simplify, we make a **“naive” assumption**: **All features are conditionally independent**\n",
    "\n",
    "- although this assumption is often **not completely true** in the real world, it **works very well**\n",
    "\n",
    "- after assumption the resulting formula becomes:\n",
    "\n",
    "$$\n",
    "\\hat{C} = \\arg\\max_i \\, P(C_i) \\prod_{j=1}^{n} P(x_j \\mid C_i)\n",
    "$$"
   ]
  },
  {
   "cell_type": "markdown",
   "id": "adaa85cc-bb99-438f-a7bf-952359973e97",
   "metadata": {},
   "source": [
    "## Naive Bayes Example: Topic Classification\n",
    "\n",
    "- we will apply Naive Bayes Classifier to classify documents into categories\n",
    "\n",
    "Algorithm\n",
    "- tries to learn **which words typically appear in which topic**\n",
    "- uses this information to predict the topic of a new document\n",
    "\n",
    "Categories:\n",
    "- sports/hockey\n",
    "- sports/baseball\n",
    "- talk/politics/guns\n",
    "- talk/ppolitics/mideast"
   ]
  },
  {
   "cell_type": "code",
   "execution_count": 4,
   "id": "7943ef9a-4a7c-4f32-8f9c-6bb5797be6e4",
   "metadata": {},
   "outputs": [
    {
     "name": "stdout",
     "output_type": "stream",
     "text": [
      "Number of loaded documents: 3843\n",
      "Kategories: ['rec.sport.baseball', 'rec.sport.hockey', 'talk.politics.guns', 'talk.politics.mideast']\n",
      "Accuracy: 0.98\n"
     ]
    },
    {
     "data": {
      "text/plain": [
       "<sklearn.metrics._plot.confusion_matrix.ConfusionMatrixDisplay at 0x156bc74d0>"
      ]
     },
     "execution_count": 4,
     "metadata": {},
     "output_type": "execute_result"
    },
    {
     "data": {
      "image/png": "[encoded data removed]",
      "text/plain": [
       "<Figure size 640x480 with 2 Axes>"
      ]
     },
     "metadata": {},
     "output_type": "display_data"
    }
   ],
   "source": [
    "#Import\n",
    "from sklearn.datasets import fetch_20newsgroups\n",
    "from sklearn.feature_extraction.text import CountVectorizer\n",
    "from sklearn.model_selection import train_test_split\n",
    "from sklearn.naive_bayes import MultinomialNB\n",
    "from sklearn.metrics import accuracy_score, confusion_matrix, ConfusionMatrixDisplay\n",
    "\n",
    "#Load data\n",
    "categories = ['rec.sport.hockey', 'rec.sport.baseball', 'talk.politics.guns', 'talk.politics.mideast']\n",
    "data = fetch_20newsgroups(subset='all', categories=categories)\n",
    "\n",
    "#Print info\n",
    "print(f\"Number of loaded documents: {len(data.data)}\")\n",
    "print(f\"Kategories: {data.target_names}\")\n",
    "\n",
    "#Convert to matrix\n",
    "#row = document\n",
    "#column = unique word\n",
    "#value on specific row and column = number representing how many times word appeared in document\n",
    "vectorizer = CountVectorizer(stop_words='english')\n",
    "X = vectorizer.fit_transform(data.data)\n",
    "y = data.target\n",
    "\n",
    "#Split data\n",
    "X_train, X_test, y_train, y_test = train_test_split(X, y, test_size=0.50, random_state=42)\n",
    "\n",
    "#Train the naive bayes model\n",
    "model = MultinomialNB()\n",
    "model.fit(X_train, y_train)\n",
    "\n",
    "#Predict\n",
    "y_pred = model.predict(X_test)\n",
    "\n",
    "#Evaluate\n",
    "acc = accuracy_score(y_test, y_pred)\n",
    "print(f\"Accuracy: {acc:.2f}\")\n",
    "\n",
    "#Visualise\n",
    "cm = confusion_matrix(y_test, y_pred)\n",
    "disp = ConfusionMatrixDisplay(confusion_matrix=cm, display_labels=data.target_names)\n",
    "disp.plot(cmap='Greens', xticks_rotation=45)\n"
   ]
  },
  {
   "cell_type": "code",
   "execution_count": null,
   "id": "c5d30629-cfa8-43b3-9255-08f89b547b7c",
   "metadata": {},
   "outputs": [],
   "source": []
  }
 ],
 "metadata": {
  "kernelspec": {
   "display_name": "Python [conda env:base] *",
   "language": "python",
   "name": "conda-base-py"
  },
  "language_info": {
   "codemirror_mode": {
    "name": "ipython",
    "version": 3
   },
   "file_extension": ".py",
   "mimetype": "text/x-python",
   "name": "python",
   "nbconvert_exporter": "python",
   "pygments_lexer": "ipython3",
   "version": "3.13.5"
  }
 },
 "nbformat": 4,
 "nbformat_minor": 5
}
