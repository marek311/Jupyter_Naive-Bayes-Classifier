{
 "cells": [
  {
   "cell_type": "markdown",
   "id": "961f7ddd-9d7f-48c8-ba9d-99074af58374",
   "metadata": {},
   "source": [
    "KNN"
   ]
  },
  {
   "cell_type": "markdown",
   "id": "43727212-97ef-439b-a4a1-d66ba554a3f8",
   "metadata": {},
   "source": [
    "princip, parameter k, metrika vzdialenosti, vyhody a nevyhody, ide o predikciu vystupu na zaklade vstupu(model pozna vstup aj vystup), ako prebieha klasifikacia,male/velke k sposobi..., citlivost na atributy, nie ucenie - len pamatanie, "
   ]
  },
  {
   "cell_type": "markdown",
   "id": "a8ab6aff-2307-497c-b505-50dd20e0d3e3",
   "metadata": {},
   "source": [
    "Clustering"
   ]
  },
  {
   "cell_type": "markdown",
   "id": "a094f89b-379f-4658-b56e-f5ed94619ca0",
   "metadata": {},
   "source": [
    "model pozna iba vstupy a vystupy nie, model rozdeluje data na skupiny - klastre, klaster obsahuje co najpodobnejsie objekty, jednotlive klastre obsahuju co najodlisnejsie objekty, segmentacia dat a objavovanie skrytych struktur v datach, porovnanie kmeans a dbscan\n",
    "TYPY:\n",
    "- K-means - rozdelenie pomocou centroidov, simple, fast, pocet klastrov = k\n",
    "- DBSCAN - vyuziva hustotu bodov"
   ]
  }
 ],
 "metadata": {
  "kernelspec": {
   "display_name": "Python [conda env:base] *",
   "language": "python",
   "name": "conda-base-py"
  },
  "language_info": {
   "codemirror_mode": {
    "name": "ipython",
    "version": 3
   },
   "file_extension": ".py",
   "mimetype": "text/x-python",
   "name": "python",
   "nbconvert_exporter": "python",
   "pygments_lexer": "ipython3",
   "version": "3.13.5"
  }
 },
 "nbformat": 4,
 "nbformat_minor": 5
}
