{
 "cells": [
  {
   "cell_type": "markdown",
   "id": "961f7ddd-9d7f-48c8-ba9d-99074af58374",
   "metadata": {},
   "source": [
    "<h1>K-Nearest Neighbor and Clustering</h1>"
   ]
  },
  {
   "cell_type": "markdown",
   "id": "f764cd62-6638-4155-ac6a-32dfef02df8b",
   "metadata": {},
   "source": [
    "In this notebook you will learn about:\n",
    "- **K-Nearest Neighbor** – algorithm makes predictions based on the similarity between data points, assuming that those close to each other share similar characteristics\n",
    "- **Clustering** – an unsupervised learning approach that uncovers natural groupings within data, helping reveal patterns and relationships without relying on predefined labels"
   ]
  },
  {
   "cell_type": "markdown",
   "id": "f143a892-0352-4877-b3b0-59edebe8dab1",
   "metadata": {},
   "source": [
    "## K-Nearest Neighbor\n",
    "- **Principle**: algorithm classifies new data points based on the majority label of their **k** nearest neighbors in the feature space\n",
    "- **Distance metric**: similarity between data points is measured using distance metrics such as Euclidean, Manhattan, or Minkowski distance\n",
    "- **Parameter k**: choice of **k** determines how many neighbors are considered for the decision — small values make the model sensitive to noise, while large values may oversmooth class boundaries\n",
    "- **Prediction**: to predict the output for a new input, KNN identifies the k closest training samples and assigns the class most common among them\n",
    "- **Learning process**: KNN does not perform explicit training — it simply stores the training data and makes predictions based on proximity, which is why it is often called a lazy learner"
   ]
  },
  {
   "cell_type": "markdown",
   "id": "51821c9a-47f4-49a8-9bbc-64bb7a1a7a9e",
   "metadata": {},
   "source": [
    "## Clustering\n",
    "- **Principle**: clustering is an unsupervised learning technique where the model has access only to input data and no predefined output labels\n",
    "- **Goal**: to divide data into groups (clusters) so that objects within the same cluster are as similar as possible, while objects in different clusters are as different as possible\n",
    "- **Cluster definition**: each cluster represents a collection of data points sharing common characteristics or proximity in the feature space\n",
    "- **Data segmentation**: clustering helps reveal hidden patterns or structures within data, providing insight into its natural organization  \n",
    "- **K-Means**: partitions data into *k* clusters based on distance from cluster centroids, which are iteratively updated until convergence  \n",
    "- **DBSCAN**: groups points based on density, forming clusters of closely packed points while marking isolated points as outliers  "
   ]
  },
  {
   "cell_type": "code",
   "execution_count": null,
   "id": "2433cc81-189a-495d-b8b1-14a3ea4a8475",
   "metadata": {},
   "outputs": [],
   "source": []
  }
 ],
 "metadata": {
  "kernelspec": {
   "display_name": "Python [conda env:base] *",
   "language": "python",
   "name": "conda-base-py"
  },
  "language_info": {
   "codemirror_mode": {
    "name": "ipython",
    "version": 3
   },
   "file_extension": ".py",
   "mimetype": "text/x-python",
   "name": "python",
   "nbconvert_exporter": "python",
   "pygments_lexer": "ipython3",
   "version": "3.13.5"
  }
 },
 "nbformat": 4,
 "nbformat_minor": 5
}
